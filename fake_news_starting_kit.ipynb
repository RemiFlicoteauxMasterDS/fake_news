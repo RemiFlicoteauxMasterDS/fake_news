{
 "cells": [
  {
   "cell_type": "markdown",
   "metadata": {},
   "source": [
    "# [Paris Saclay Center for Data Science](http://www.datascience-paris-saclay.fr)\n",
    "\n",
    "## [Fake News RAMP](http://www.ramp.studio/problems/fake_news): fake news detection\n",
    "\n",
    "_Emanuela Boros (LIMSI), Balázs Kégl (LAL/CNRS)_\n",
    "\n",
    "## Introduction\n",
    "This is an initiation project to introduce RAMP and get you to know how it works.\n",
    "\n",
    "The goal is to develop prediction models able to **identify which news is fake**. \n",
    "\n",
    "The data we will manipulate is from"
   ]
  },
  {
   "cell_type": "markdown",
   "metadata": {},
   "source": [
    "### Requirements\n",
    "\n",
    "* numpy>=1.10.0  \n",
    "* matplotlib>=1.5.0 \n",
    "* pandas>=0.19.0  \n",
    "* scikit-learn>=0.17 (different syntaxes for v0.17 and v0.18)   \n",
    "* seaborn>=0.7.1"
   ]
  },
  {
   "cell_type": "code",
   "execution_count": 4,
   "metadata": {},
   "outputs": [
    {
     "data": {
      "text/html": [
       "<script>requirejs.config({paths: { 'plotly': ['https://cdn.plot.ly/plotly-latest.min']},});if(!window.Plotly) {{require(['plotly'],function(plotly) {window.Plotly=plotly;});}}</script>"
      ],
      "text/vnd.plotly.v1+html": [
       "<script>requirejs.config({paths: { 'plotly': ['https://cdn.plot.ly/plotly-latest.min']},});if(!window.Plotly) {{require(['plotly'],function(plotly) {window.Plotly=plotly;});}}</script>"
      ]
     },
     "metadata": {},
     "output_type": "display_data"
    }
   ],
   "source": [
    "import pandas as pd\n",
    "import numpy as np\n",
    "import seaborn as sns\n",
    "import matplotlib.pyplot as plt\n",
    "%matplotlib inline\n",
    "import plotly.offline as py\n",
    "py.init_notebook_mode(connected=True)\n",
    "import plotly.graph_objs as go\n",
    "import plotly.tools as tls\n",
    "import warnings\n",
    "from collections import Counter\n",
    "from sklearn.feature_selection import mutual_info_classif\n",
    "warnings.filterwarnings('ignore')"
   ]
  },
  {
   "cell_type": "markdown",
   "metadata": {},
   "source": [
    "## Exploratory data analysis"
   ]
  },
  {
   "cell_type": "markdown",
   "metadata": {},
   "source": [
    "### Loading the data"
   ]
  },
  {
   "cell_type": "code",
   "execution_count": 3,
   "metadata": {},
   "outputs": [
    {
     "name": "stdout",
     "output_type": "stream",
     "text": [
      "matplotlib==2.0.2\r\n",
      "plotly==2.1.0\r\n"
     ]
    }
   ],
   "source": []
  },
  {
   "cell_type": "code",
   "execution_count": 5,
   "metadata": {
    "scrolled": true
   },
   "outputs": [
    {
     "data": {
      "text/html": [
       "<div>\n",
       "<style>\n",
       "    .dataframe thead tr:only-child th {\n",
       "        text-align: right;\n",
       "    }\n",
       "\n",
       "    .dataframe thead th {\n",
       "        text-align: left;\n",
       "    }\n",
       "\n",
       "    .dataframe tbody tr th {\n",
       "        vertical-align: top;\n",
       "    }\n",
       "</style>\n",
       "<table border=\"1\" class=\"dataframe\">\n",
       "  <thead>\n",
       "    <tr style=\"text-align: right;\">\n",
       "      <th></th>\n",
       "      <th>city</th>\n",
       "      <th>date</th>\n",
       "      <th>party</th>\n",
       "      <th>source</th>\n",
       "      <th>statement</th>\n",
       "      <th>title</th>\n",
       "    </tr>\n",
       "  </thead>\n",
       "  <tbody>\n",
       "    <tr>\n",
       "      <th>2823</th>\n",
       "      <td>NaN</td>\n",
       "      <td>2015-12-30</td>\n",
       "      <td>NaN</td>\n",
       "      <td>Stephen Hayes</td>\n",
       "      <td>Guantanamo has \"never been a key component of ...</td>\n",
       "      <td>A component, but an awfully small one</td>\n",
       "    </tr>\n",
       "    <tr>\n",
       "      <th>2824</th>\n",
       "      <td>NaN</td>\n",
       "      <td>2015-12-30</td>\n",
       "      <td>NaN</td>\n",
       "      <td>Viral image</td>\n",
       "      <td>Says U.S. Rep. Ted Yoho said \"African American...</td>\n",
       "      <td>A fake quote from a satirical news site</td>\n",
       "    </tr>\n",
       "    <tr>\n",
       "      <th>2825</th>\n",
       "      <td>Georgia</td>\n",
       "      <td>2015-12-30</td>\n",
       "      <td>None</td>\n",
       "      <td>State Public Service Announcement</td>\n",
       "      <td>By the end of 2015, more than 1,300 people wil...</td>\n",
       "      <td>After nine years, traffic deaths rising</td>\n",
       "    </tr>\n",
       "    <tr>\n",
       "      <th>2826</th>\n",
       "      <td>Florida</td>\n",
       "      <td>2015-12-29</td>\n",
       "      <td>Democrat</td>\n",
       "      <td>Patrick Murphy</td>\n",
       "      <td>\"91% of suspected terrorists who attempted to ...</td>\n",
       "      <td>The list isn't perfect, but data backs him up</td>\n",
       "    </tr>\n",
       "    <tr>\n",
       "      <th>2827</th>\n",
       "      <td>Texas</td>\n",
       "      <td>2015-12-29</td>\n",
       "      <td>Republican</td>\n",
       "      <td>Ted Cruz</td>\n",
       "      <td>\"Existing law right now requires 700 miles of ...</td>\n",
       "      <td>\"Existing law\" was changed in 2008</td>\n",
       "    </tr>\n",
       "  </tbody>\n",
       "</table>\n",
       "</div>"
      ],
      "text/plain": [
       "         city        date       party                             source  \\\n",
       "2823      NaN  2015-12-30         NaN                      Stephen Hayes   \n",
       "2824      NaN  2015-12-30         NaN                        Viral image   \n",
       "2825  Georgia  2015-12-30        None  State Public Service Announcement   \n",
       "2826  Florida  2015-12-29    Democrat                     Patrick Murphy   \n",
       "2827    Texas  2015-12-29  Republican                           Ted Cruz   \n",
       "\n",
       "                                              statement  \\\n",
       "2823  Guantanamo has \"never been a key component of ...   \n",
       "2824  Says U.S. Rep. Ted Yoho said \"African American...   \n",
       "2825  By the end of 2015, more than 1,300 people wil...   \n",
       "2826  \"91% of suspected terrorists who attempted to ...   \n",
       "2827  \"Existing law right now requires 700 miles of ...   \n",
       "\n",
       "                                              title  \n",
       "2823          A component, but an awfully small one  \n",
       "2824        A fake quote from a satirical news site  \n",
       "2825        After nine years, traffic deaths rising  \n",
       "2826  The list isn't perfect, but data backs him up  \n",
       "2827             \"Existing law\" was changed in 2008  "
      ]
     },
     "execution_count": 5,
     "metadata": {},
     "output_type": "execute_result"
    }
   ],
   "source": [
    "train_filename = 'data/train.csv'\n",
    "data = pd.read_csv(train_filename, sep='\\t',\n",
    "                       names=['city', 'date', 'party', 'source', \n",
    "                              'statement', 'title', 'truth'])\n",
    "y_df = data['truth']\n",
    "X_df = data.drop(['truth'], axis=1)\n",
    "X_df.head()"
   ]
  },
  {
   "cell_type": "code",
   "execution_count": 6,
   "metadata": {},
   "outputs": [
    {
     "data": {
      "text/html": [
       "<div>\n",
       "<style>\n",
       "    .dataframe thead tr:only-child th {\n",
       "        text-align: right;\n",
       "    }\n",
       "\n",
       "    .dataframe thead th {\n",
       "        text-align: left;\n",
       "    }\n",
       "\n",
       "    .dataframe tbody tr th {\n",
       "        vertical-align: top;\n",
       "    }\n",
       "</style>\n",
       "<table border=\"1\" class=\"dataframe\">\n",
       "  <thead>\n",
       "    <tr style=\"text-align: right;\">\n",
       "      <th></th>\n",
       "      <th>city</th>\n",
       "      <th>date</th>\n",
       "      <th>party</th>\n",
       "      <th>source</th>\n",
       "      <th>statement</th>\n",
       "      <th>title</th>\n",
       "      <th>truth</th>\n",
       "    </tr>\n",
       "  </thead>\n",
       "  <tbody>\n",
       "    <tr>\n",
       "      <th>count</th>\n",
       "      <td>8604</td>\n",
       "      <td>11097</td>\n",
       "      <td>8604</td>\n",
       "      <td>11097</td>\n",
       "      <td>11097</td>\n",
       "      <td>11097</td>\n",
       "      <td>11097</td>\n",
       "    </tr>\n",
       "    <tr>\n",
       "      <th>unique</th>\n",
       "      <td>69</td>\n",
       "      <td>2491</td>\n",
       "      <td>20</td>\n",
       "      <td>2967</td>\n",
       "      <td>11082</td>\n",
       "      <td>10995</td>\n",
       "      <td>9</td>\n",
       "    </tr>\n",
       "    <tr>\n",
       "      <th>top</th>\n",
       "      <td>Florida</td>\n",
       "      <td>2010-10-28</td>\n",
       "      <td>Republican</td>\n",
       "      <td>Barack Obama</td>\n",
       "      <td>On changing the rules for filibusters on presi...</td>\n",
       "      <td>Not even close</td>\n",
       "      <td>Half-True</td>\n",
       "    </tr>\n",
       "    <tr>\n",
       "      <th>freq</th>\n",
       "      <td>1123</td>\n",
       "      <td>16</td>\n",
       "      <td>4341</td>\n",
       "      <td>586</td>\n",
       "      <td>3</td>\n",
       "      <td>8</td>\n",
       "      <td>2209</td>\n",
       "    </tr>\n",
       "  </tbody>\n",
       "</table>\n",
       "</div>"
      ],
      "text/plain": [
       "           city        date       party        source  \\\n",
       "count      8604       11097        8604         11097   \n",
       "unique       69        2491          20          2967   \n",
       "top     Florida  2010-10-28  Republican  Barack Obama   \n",
       "freq       1123          16        4341           586   \n",
       "\n",
       "                                                statement           title  \\\n",
       "count                                               11097           11097   \n",
       "unique                                              11082           10995   \n",
       "top     On changing the rules for filibusters on presi...  Not even close   \n",
       "freq                                                    3               8   \n",
       "\n",
       "            truth  \n",
       "count       11097  \n",
       "unique          9  \n",
       "top     Half-True  \n",
       "freq         2209  "
      ]
     },
     "execution_count": 6,
     "metadata": {},
     "output_type": "execute_result"
    }
   ],
   "source": [
    "data.describe()"
   ]
  },
  {
   "cell_type": "code",
   "execution_count": 7,
   "metadata": {},
   "outputs": [
    {
     "data": {
      "text/plain": [
       "city          8604\n",
       "date         11097\n",
       "party         8604\n",
       "source       11097\n",
       "statement    11097\n",
       "title        11097\n",
       "truth        11097\n",
       "dtype: int64"
      ]
     },
     "execution_count": 7,
     "metadata": {},
     "output_type": "execute_result"
    }
   ],
   "source": [
    "data.count()"
   ]
  },
  {
   "cell_type": "markdown",
   "metadata": {},
   "source": [
    "The original training data frame has 11097 rows. In the starting kit, we give you a subset of 445 rows. Some passengers have missing information: in particular `city` and `party` info can be missing."
   ]
  },
  {
   "cell_type": "markdown",
   "metadata": {},
   "source": [
    "### Predicting survival\n",
    "\n",
    "The goal is to predict whether a passenger has survived from other known attributes. Let us group the data according to the `Survived` columns:"
   ]
  },
  {
   "cell_type": "code",
   "execution_count": 13,
   "metadata": {},
   "outputs": [
    {
     "data": {
      "text/html": [
       "<div>\n",
       "<style>\n",
       "    .dataframe thead tr:only-child th {\n",
       "        text-align: right;\n",
       "    }\n",
       "\n",
       "    .dataframe thead th {\n",
       "        text-align: left;\n",
       "    }\n",
       "\n",
       "    .dataframe tbody tr th {\n",
       "        vertical-align: top;\n",
       "    }\n",
       "</style>\n",
       "<table border=\"1\" class=\"dataframe\">\n",
       "  <thead>\n",
       "    <tr style=\"text-align: right;\">\n",
       "      <th></th>\n",
       "      <th>city</th>\n",
       "      <th>date</th>\n",
       "      <th>party</th>\n",
       "      <th>source</th>\n",
       "      <th>statement</th>\n",
       "      <th>title</th>\n",
       "    </tr>\n",
       "    <tr>\n",
       "      <th>truth</th>\n",
       "      <th></th>\n",
       "      <th></th>\n",
       "      <th></th>\n",
       "      <th></th>\n",
       "      <th></th>\n",
       "      <th></th>\n",
       "    </tr>\n",
       "  </thead>\n",
       "  <tbody>\n",
       "    <tr>\n",
       "      <th>False</th>\n",
       "      <td>1575</td>\n",
       "      <td>2073</td>\n",
       "      <td>1575</td>\n",
       "      <td>2073</td>\n",
       "      <td>2073</td>\n",
       "      <td>2073</td>\n",
       "    </tr>\n",
       "    <tr>\n",
       "      <th>Full Flop</th>\n",
       "      <td>114</td>\n",
       "      <td>119</td>\n",
       "      <td>114</td>\n",
       "      <td>119</td>\n",
       "      <td>119</td>\n",
       "      <td>119</td>\n",
       "    </tr>\n",
       "    <tr>\n",
       "      <th>Half Flip</th>\n",
       "      <td>50</td>\n",
       "      <td>57</td>\n",
       "      <td>50</td>\n",
       "      <td>57</td>\n",
       "      <td>57</td>\n",
       "      <td>57</td>\n",
       "    </tr>\n",
       "    <tr>\n",
       "      <th>Half-True</th>\n",
       "      <td>1723</td>\n",
       "      <td>2209</td>\n",
       "      <td>1723</td>\n",
       "      <td>2209</td>\n",
       "      <td>2209</td>\n",
       "      <td>2209</td>\n",
       "    </tr>\n",
       "    <tr>\n",
       "      <th>Mostly False</th>\n",
       "      <td>1382</td>\n",
       "      <td>1794</td>\n",
       "      <td>1382</td>\n",
       "      <td>1794</td>\n",
       "      <td>1794</td>\n",
       "      <td>1794</td>\n",
       "    </tr>\n",
       "    <tr>\n",
       "      <th>Mostly True</th>\n",
       "      <td>1714</td>\n",
       "      <td>2092</td>\n",
       "      <td>1714</td>\n",
       "      <td>2092</td>\n",
       "      <td>2092</td>\n",
       "      <td>2092</td>\n",
       "    </tr>\n",
       "    <tr>\n",
       "      <th>No Flip</th>\n",
       "      <td>20</td>\n",
       "      <td>22</td>\n",
       "      <td>20</td>\n",
       "      <td>22</td>\n",
       "      <td>22</td>\n",
       "      <td>22</td>\n",
       "    </tr>\n",
       "    <tr>\n",
       "      <th>Pants on Fire!</th>\n",
       "      <td>542</td>\n",
       "      <td>905</td>\n",
       "      <td>542</td>\n",
       "      <td>905</td>\n",
       "      <td>905</td>\n",
       "      <td>905</td>\n",
       "    </tr>\n",
       "    <tr>\n",
       "      <th>True</th>\n",
       "      <td>1484</td>\n",
       "      <td>1826</td>\n",
       "      <td>1484</td>\n",
       "      <td>1826</td>\n",
       "      <td>1826</td>\n",
       "      <td>1826</td>\n",
       "    </tr>\n",
       "  </tbody>\n",
       "</table>\n",
       "</div>"
      ],
      "text/plain": [
       "                city  date  party  source  statement  title\n",
       "truth                                                      \n",
       "False           1575  2073   1575    2073       2073   2073\n",
       "Full Flop        114   119    114     119        119    119\n",
       "Half Flip         50    57     50      57         57     57\n",
       "Half-True       1723  2209   1723    2209       2209   2209\n",
       "Mostly False    1382  1794   1382    1794       1794   1794\n",
       "Mostly True     1714  2092   1714    2092       2092   2092\n",
       "No Flip           20    22     20      22         22     22\n",
       "Pants on Fire!   542   905    542     905        905    905\n",
       "True            1484  1826   1484    1826       1826   1826"
      ]
     },
     "execution_count": 13,
     "metadata": {},
     "output_type": "execute_result"
    }
   ],
   "source": [
    "data.groupby('truth').count()"
   ]
  },
  {
   "cell_type": "markdown",
   "metadata": {},
   "source": []
  },
  {
   "cell_type": "markdown",
   "metadata": {},
   "source": []
  },
  {
   "cell_type": "markdown",
   "metadata": {},
   "source": []
  },
  {
   "cell_type": "code",
   "execution_count": 14,
   "metadata": {},
   "outputs": [
    {
     "data": {
      "image/png": "[encoded data removed]",
      "text/plain": [
       "<matplotlib.figure.Figure at 0x7f132c8f43c8>"
      ]
     },
     "metadata": {},
     "output_type": "display_data"
    }
   ],
   "source": [
    "# Data Quality Check\n",
    "import missingno as msno\n",
    "msno.matrix(df=data, figsize=(20, 14), color=(0.42, 0.1, 0.05))\n"
   ]
  },
  {
   "cell_type": "code",
   "execution_count": 15,
   "metadata": {},
   "outputs": [
    {
     "data": {
      "application/vnd.plotly.v1+json": {
       "data": [
        {
         "marker": {
          "color": [
           11082,
           10995,
           2967,
           2491,
           70,
           21,
           9
          ],
          "colorscale": "Viridis",
          "reversescale": true
         },
         "name": "Feature unique values",
         "orientation": "h",
         "type": "bar",
         "x": [
          11082,
          10995,
          2967,
          2491,
          70,
          21,
          9
         ],
         "y": [
          "statement",
          "title",
          "source",
          "date",
          "city",
          "party",
          "truth"
         ]
        }
       ],
       "layout": {
        "title": "Barplot of Feature Unique Values",
        "yaxis": {
         "showgrid": false,
         "showline": false,
         "showticklabels": true
        }
       }
      },
      "text/html": [
       "<div id=\"6713a9ee-4ac6-4de9-96d0-305060bb47e4\" style=\"height: 525px; width: 100%;\" class=\"plotly-graph-div\"></div><script type=\"text/javascript\">require([\"plotly\"], function(Plotly) { window.PLOTLYENV=window.PLOTLYENV || {};window.PLOTLYENV.BASE_URL=\"https://plot.ly\";Plotly.newPlot(\"6713a9ee-4ac6-4de9-96d0-305060bb47e4\", [{\"type\": \"bar\", \"x\": [11082, 10995, 2967, 2491, 70, 21, 9], \"y\": [\"statement\", \"title\", \"source\", \"date\", \"city\", \"party\", \"truth\"], \"marker\": {\"color\": [11082, 10995, 2967, 2491, 70, 21, 9], \"colorscale\": \"Viridis\", \"reversescale\": true}, \"name\": \"Feature unique values\", \"orientation\": \"h\"}], {\"title\": \"Barplot of Feature Unique Values\", \"yaxis\": {\"showgrid\": false, \"showline\": false, \"showticklabels\": true}}, {\"showLink\": true, \"linkText\": \"Export to plot.ly\"})});</script>"
      ],
      "text/vnd.plotly.v1+html": [
       "<div id=\"6713a9ee-4ac6-4de9-96d0-305060bb47e4\" style=\"height: 525px; width: 100%;\" class=\"plotly-graph-div\"></div><script type=\"text/javascript\">require([\"plotly\"], function(Plotly) { window.PLOTLYENV=window.PLOTLYENV || {};window.PLOTLYENV.BASE_URL=\"https://plot.ly\";Plotly.newPlot(\"6713a9ee-4ac6-4de9-96d0-305060bb47e4\", [{\"type\": \"bar\", \"x\": [11082, 10995, 2967, 2491, 70, 21, 9], \"y\": [\"statement\", \"title\", \"source\", \"date\", \"city\", \"party\", \"truth\"], \"marker\": {\"color\": [11082, 10995, 2967, 2491, 70, 21, 9], \"colorscale\": \"Viridis\", \"reversescale\": true}, \"name\": \"Feature unique values\", \"orientation\": \"h\"}], {\"title\": \"Barplot of Feature Unique Values\", \"yaxis\": {\"showgrid\": false, \"showline\": false, \"showticklabels\": true}}, {\"showLink\": true, \"linkText\": \"Export to plot.ly\"})});</script>"
      ]
     },
     "metadata": {},
     "output_type": "display_data"
    }
   ],
   "source": [
    "cols = train_copy.columns\n",
    "\n",
    "feature_numbers = []\n",
    "\n",
    "for col in cols:\n",
    "    feature_numbers.append(len(data[col].unique()))\n",
    "    \n",
    "\n",
    "x, y = (list(x) for x in zip(*sorted(zip(feature_numbers , cols),reverse = True)))\n",
    "\n",
    "trace2 = go.Bar(\n",
    "    x=x ,\n",
    "    y=y,\n",
    "    marker=dict(\n",
    "        color=x,\n",
    "        colorscale = 'Viridis',\n",
    "        reversescale = True\n",
    "    ),\n",
    "    name='Feature unique values',\n",
    "    orientation='h',\n",
    ")\n",
    "\n",
    "layout = dict(\n",
    "    title='Barplot of Feature Unique Values',\n",
    "    yaxis=dict(\n",
    "        showgrid=False,\n",
    "        showline=False,\n",
    "        showticklabels=True,\n",
    "#         domain=[0, 0.85],\n",
    "    ))\n",
    "\n",
    "fig1 = go.Figure(data=[trace2])\n",
    "fig1['layout'].update(layout)\n",
    "py.iplot(fig1, filename='plots')"
   ]
  },
  {
   "cell_type": "code",
   "execution_count": 17,
   "metadata": {},
   "outputs": [],
   "source": [
    "data['city'] = data['city'].fillna(' ')\n",
    "data['party'] = data['party'].fillna(' ')"
   ]
  },
  {
   "cell_type": "markdown",
   "metadata": {},
   "source": [
    "## The pipeline\n",
    "\n",
    "For submitting at the [RAMP site](http://ramp.studio), you will have to write two classes, saved in two different files:   \n",
    "* the class `FeatureExtractor`, which will be used to extract features for classification from the dataset and produce a numpy array of size (number of samples $\\times$ number of features). \n",
    "* a class `Classifier` to predict "
   ]
  },
  {
   "cell_type": "markdown",
   "metadata": {},
   "source": [
    "### Feature extractor"
   ]
  },
  {
   "cell_type": "markdown",
   "metadata": {},
   "source": [
    "The feature extractor implements a `transform` member function. It is saved in the file [`submissions/starting_kit/feature_extractor.py`](/edit/submissions/starting_kit/feature_extractor.py). It receives the pandas dataframe `X_df` defined at the beginning of the notebook. It should produce a numpy array representing the extracted features, which will then be used for the classification.  \n",
    "\n",
    "Note that the following code cells are *not* executed in the notebook. The notebook saves their contents in the file specified in the first line of the cell, so you can edit your submission before running the local test below and submitting it at the RAMP site."
   ]
  },
  {
   "cell_type": "code",
   "execution_count": null,
   "metadata": {},
   "outputs": [],
   "source": [
    "\n"
   ]
  },
  {
   "cell_type": "markdown",
   "metadata": {},
   "source": [
    "### Classifier"
   ]
  },
  {
   "cell_type": "markdown",
   "metadata": {},
   "source": [
    "The classifier follows a classical scikit-learn classifier template. It should be saved in the file [`submissions/starting_kit/classifier.py`](/edit/submissions/starting_kit/classifier.py). In its simplest form it takes a scikit-learn pipeline, assigns it to `self.clf` in `__init__`, then calls its `fit` and `predict_proba` functions in the corresponding member funtions."
   ]
  },
  {
   "cell_type": "code",
   "execution_count": 18,
   "metadata": {},
   "outputs": [
    {
     "name": "stderr",
     "output_type": "stream",
     "text": [
      "UsageError: %%file is a cell magic, but the cell body is empty.\n"
     ]
    }
   ],
   "source": [
    "%%file submissions/starting_kit/classifier.py\n"
   ]
  }
 ],
 "metadata": {
  "anaconda-cloud": {},
  "kernelspec": {
   "display_name": "Python 3",
   "language": "python",
   "name": "python3"
  },
  "language_info": {
   "codemirror_mode": {
    "name": "ipython",
    "version": 3
   },
   "file_extension": ".py",
   "mimetype": "text/x-python",
   "name": "python",
   "nbconvert_exporter": "python",
   "pygments_lexer": "ipython3",
   "version": "3.6.2"
  }
 },
 "nbformat": 4,
 "nbformat_minor": 1
}
